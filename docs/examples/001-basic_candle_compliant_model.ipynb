{
 "cells": [
  {
   "attachments": {},
   "cell_type": "markdown",
   "id": "8f51245c",
   "metadata": {},
   "source": [
    "# Candle Compliance Example\n",
    "\n",
    "See this in Singularity repo: https://github.com/JDACS4C-IMPROVE/Singularity/tree/master/examples"
   ]
  },
  {
   "cell_type": "code",
   "execution_count": 1,
   "id": "64afac6a",
   "metadata": {},
   "outputs": [
    {
     "name": "stdout",
     "output_type": "stream",
     "text": [
      "     1\t[global]\n",
      "     2\t# the only absolutely required parameter\n",
      "     3\tmodel_name=\"example\"\n",
      "     4\t#demonstrating how a list is handled\n",
      "     5\tdense=[1000, 750, 500]"
     ]
    },
    {
     "data": {
      "text/plain": [
       "0"
      ]
     },
     "execution_count": 1,
     "metadata": {},
     "output_type": "execute_result"
    }
   ],
   "source": [
    "from os import system\n",
    "system(\"rm example_default_model.txt\")\n",
    "# create a hyperparameters file\n",
    "file_name=\"example_default_model.txt\"\n",
    "\n",
    "with open(file_name, 'a') as f:\n",
    "    f.write(\"[global]\\n# the only absolutely required parameter\\nmodel_name=\\\"example\\\"\\n\")\n",
    "    f.write(\"#demonstrating how a list is handled\\ndense=[1000, 750, 500]\")\n",
    "\n",
    "system(\"cat -n example_default_model.txt\")"
   ]
  },
  {
   "cell_type": "code",
   "execution_count": 2,
   "id": "ad5565dd",
   "metadata": {},
   "outputs": [
    {
     "name": "stdout",
     "output_type": "stream",
     "text": [
      "Importing candle utils for keras\n",
      "Importing candle utils for pytorch\n"
     ]
    }
   ],
   "source": [
    "import os\n",
    "import candle\n",
    "\n",
    "# Just because the tensorflow warnings are a bit verbose\n",
    "os.environ['TF_CPP_MIN_LOG_LEVEL'] = '3'\n",
    "\n",
    "# This should be set outside as a user environment variable\n",
    "os.environ['CANDLE_DATA_DIR'] = os.environ['HOME'] + '/improve_data_dir'"
   ]
  },
  {
   "cell_type": "code",
   "execution_count": 3,
   "id": "57288224",
   "metadata": {},
   "outputs": [],
   "source": [
    "# Define any needed additional args to ensure all new args are command-line accessible.\n",
    "additional_definitions = [{\n",
    "    'name': 'new_keyword',\n",
    "    'type': str,\n",
    "    'nargs': 1,\n",
    "    'help': 'helpful description'\n",
    "}]\n",
    "\n",
    "# Define args that are required.\n",
    "required = None\n",
    "\n",
    "\n",
    "# Extend candle.Benchmark to configure the args\n",
    "class IBenchmark(candle.Benchmark):\n",
    "\n",
    "    def set_locals(self):\n",
    "        if required is not None:\n",
    "            self.required = set(required)\n",
    "        if additional_definitions is not None:\n",
    "            self.additional_definitions = additional_definitions\n"
   ]
  },
  {
   "cell_type": "code",
   "execution_count": 4,
   "id": "5ca85787",
   "metadata": {},
   "outputs": [],
   "source": [
    "# Extend candle.Benchmark to configure the args\n",
    "class IBenchmark(candle.Benchmark):\n",
    "\n",
    "    def set_locals(self):\n",
    "        if required is not None:\n",
    "            self.required = set(required)\n",
    "        if additional_definitions is not None:\n",
    "            self.additional_definitions = additional_definitions\n"
   ]
  },
  {
   "cell_type": "code",
   "execution_count": 5,
   "id": "458255df",
   "metadata": {},
   "outputs": [],
   "source": [
    "# In the initialize_parameters() method, we will instantiate the base\n",
    "# class, and finally build an argument parser to recognize your customized\n",
    "# parameters in addition to the default parameters.The initialize_parameters()\n",
    "# method should return a python dictionary, which will be passed to the run()\n",
    "# method.\n",
    "def initialize_parameters():\n",
    "    print(\"initializing params\\n\")\n",
    "    i_bmk = IBenchmark(\n",
    "        \"./\",  # this is the path to this file needed to find default_model.txt\n",
    "        'example_default_model.txt',  # name of the default_model.txt file\n",
    "        'keras',  # framework, choice is keras or pytorch\n",
    "        prog='example_baseline',  # basename of the model\n",
    "        desc='IMPROVE Benchmark')\n",
    "\n",
    "    gParameters = candle.finalize_parameters(\n",
    "        i_bmk)  # returns the parameter dictionary built from\n",
    "    # default_model.txt and overwritten by any\n",
    "    # matching comand line parameters.\n",
    "\n",
    "    return gParameters"
   ]
  },
  {
   "cell_type": "code",
   "execution_count": 6,
   "id": "f8653d8f",
   "metadata": {},
   "outputs": [],
   "source": [
    "def run(params):\n",
    "    # fetch data\n",
    "    # preprocess data\n",
    "    # save preprocessed data\n",
    "    # define callbacks\n",
    "    # build / compile model\n",
    "    # train model\n",
    "    # infer using model\n",
    "    # etc\n",
    "    print(\"running third party code\")\n",
    "    print(\"returning training metrics\")\n",
    "    return {\n",
    "        \"val_loss\": 0.101,\n",
    "        \"pcc\": 0.923,\n",
    "        \"rmse\": 0.036\n",
    "    }  # metrics is used by the supervisor when running\n",
    "    # HPO workflows (and possible future non HPO workflows)\n",
    "\n",
    "    # Dumping results into file, workflow requirement\n",
    "    val_scores = {\n",
    "        'key': 'val_loss',\n",
    "        'value': metrics['val_loss'],\n",
    "        'val_loss': metrics['val_loss'],\n",
    "        'pcc': metrics['pcc'],\n",
    "        'scc': metrics['scc'],\n",
    "        'rmse': metrics['rmse']\n",
    "    }\n",
    "\n",
    "    with open(params['output_dir'] + \"/scores.json\", \"w\",\n",
    "              encoding=\"utf-8\") as f:\n",
    "        json.dump(val_scores, f, ensure_ascii=False, indent=4)\n",
    "\n",
    "    return metrics  # metrics is used by the supervisor when running\n",
    "    # HPO workflows (and possible future non HPO workflows)"
   ]
  },
  {
   "cell_type": "code",
   "execution_count": 7,
   "id": "96e7a870",
   "metadata": {},
   "outputs": [],
   "source": [
    "def main():\n",
    "    params = initialize_parameters()\n",
    "    scores = run(params)\n",
    "    print(params['data_dir'])\n",
    "\n",
    "    # demonstrating a list\n",
    "    for i, value in enumerate(params['dense']):\n",
    "        print(\"dense layer {} has {} nodes\".format(i,value))"
   ]
  },
  {
   "cell_type": "code",
   "execution_count": 8,
   "id": "dc5b8c35",
   "metadata": {},
   "outputs": [
    {
     "name": "stdout",
     "output_type": "stream",
     "text": [
      "initializing params\n",
      "\n",
      "model name:  \"example\"\n",
      "Params:\n",
      "{'ckpt_checksum': False,\n",
      " 'ckpt_directory': './save',\n",
      " 'ckpt_keep_limit': 1000000,\n",
      " 'ckpt_keep_mode': 'linear',\n",
      " 'ckpt_restart_mode': 'auto',\n",
      " 'ckpt_save_best': True,\n",
      " 'ckpt_save_best_metric': 'val_loss',\n",
      " 'ckpt_save_interval': 0,\n",
      " 'ckpt_save_weights_only': False,\n",
      " 'ckpt_skip_epochs': 0,\n",
      " 'data_dir': '/Users/mbook/improve_data_dir/example/Data',\n",
      " 'data_type': <class 'numpy.float32'>,\n",
      " 'dense': [1000, 750, 500],\n",
      " 'experiment_id': 'EXP000',\n",
      " 'jupyter': '/Users/mbook/Library/Jupyter/runtime/kernel-12fc6b3e-0ae0-4b7c-be58-94934e38c9c8.json',\n",
      " 'logfile': None,\n",
      " 'model_name': 'example',\n",
      " 'output_dir': '/Users/mbook/improve_data_dir/example/Output/EXP000/RUN000',\n",
      " 'profiling': False,\n",
      " 'rng_seed': 7102,\n",
      " 'run_id': 'RUN000',\n",
      " 'shuffle': False,\n",
      " 'timeout': -1,\n",
      " 'train_bool': True,\n",
      " 'verbose': False}\n",
      "running third party code\n",
      "returning training metrics\n",
      "/Users/mbook/improve_data_dir/example/Data\n",
      "dense layer 0 has 1000 nodes\n",
      "dense layer 1 has 750 nodes\n",
      "dense layer 2 has 500 nodes\n"
     ]
    },
    {
     "name": "stderr",
     "output_type": "stream",
     "text": [
      "/opt/homebrew/anaconda3/lib/python3.9/site-packages/candle/file_utils.py:217: RuntimeWarning: Path: /Users/mbook/improve_data_dir/example/Output/EXP000/RUN000 already exists... overwriting.\n",
      "  warnings.warn(message, RuntimeWarning)\n"
     ]
    }
   ],
   "source": [
    "if __name__ == \"__main__\":\n",
    "    main()"
   ]
  }
 ],
 "metadata": {
  "kernelspec": {
   "display_name": "Python 3 (ipykernel)",
   "language": "python",
   "name": "python3"
  },
  "language_info": {
   "codemirror_mode": {
    "name": "ipython",
    "version": 3
   },
   "file_extension": ".py",
   "mimetype": "text/x-python",
   "name": "python",
   "nbconvert_exporter": "python",
   "pygments_lexer": "ipython3",
   "version": "3.9.12"
  }
 },
 "nbformat": 4,
 "nbformat_minor": 5
}
